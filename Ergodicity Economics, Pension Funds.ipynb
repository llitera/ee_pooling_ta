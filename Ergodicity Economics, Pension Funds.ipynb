{
 "cells": [
  {
   "cell_type": "markdown",
   "id": "d9dd666d",
   "metadata": {},
   "source": [
    "# Ergodicity Economics \n",
    "\n",
    "## The impact of cooperation on funded defined contribution pensions. \n",
    "### Is it time for the introduction of a sovereign wealth fund? \n"
   ]
  },
  {
   "cell_type": "markdown",
   "id": "8f97af88",
   "metadata": {},
   "source": [
    "Author: Litera, Leon Ivo <br>\n",
    "Year: 2021 <br>"
   ]
  },
  {
   "cell_type": "markdown",
   "id": "b9b040b6",
   "metadata": {},
   "source": [
    "**Introduction** <br>\n",
    "In recent decades, many pension schemes have been reformed from pay-as-you-go to funded schemes. These changes often go along with a transformation from a DB (defined benefits) to a DC (defined contributions) system. These changes also discussed under the topic of financialisation (Hassel, Nacyk and Wiß; 2019) always go along with a risk shift from the collective to the individuals of a society (Lanoo et. al, 2014, p.23). <br>\n",
    "\n",
    "Regardless of whether such a third (growth-dependent) pillar is needed or should be promoted, the question that will be addressed here is: What could be the best design for a funded DC pension scheme?  <br>\n",
    "The question to be answered is whether it makes a difference to pensioners whether the pensions invested in the capital market are managed by a state institution such as a fund, which also provides a redistribution mechanism between the individuals, or whether they are better off if they invest the money privately.<br>\n",
    "\n",
    "In order to get closer to an answer to this question, different trajectories of investment development are simulated with the help of a geometrican Brownian motion and compared compared in the result and in the time averages. <br>\n",
    "\n",
    "The results give strong arguments for a state entity as administrator for a funded third pillar of a pension system, if and only if a funded scheme is aspired by a government. <br>"
   ]
  },
  {
   "cell_type": "markdown",
   "id": "f4fe96cb",
   "metadata": {},
   "source": [
    "**Theory** <br>\n",
    "The question of how the third pillar of a pension system should be designed becomes more relevant as the burden on this third pillar increases.\n",
    "However, since the third pillar is not mandatory in all cases but is often voluntary, it seems particularly relevant to make it attractive for pensioners so that it is actually used.\n",
    "Only if the third pillar is adequate, i.e. if the benefits are sufficiently high and, above all, as secure as possible, will it be used by broad sections of the population.\n",
    "\n",
    "If this is not the case, there is a threat of old-age poverty. Because if the private old age pension cannot fulfill its waked expectations at the value development or even fails, the standard of living must be adapted in the age still more drastically than expected, since the state in the third pillar does not guarantee any payouts. <br>\n",
    "Another negative consequence of a systematically poorly performing third pillar could be that other people do not save sufficiently for their retirement, or at least not according to their possibilities, because they do not believe in a positive development in the third pillar.<br>\n",
    "\n",
    "For this reason, the question of how the state should play a role in the organization of pensions financed by the capital market will be examined here. This is not about the question of how pensions should be financed. Rather, the question is whether it makes sense in principle to transfer the management of these investments to a joint legal entity in the form of a sovereign wealth fund or another form of legal entity. <br>\n",
    "\n",
    "Even if the capital market-financed pension deviates from a redistribution between generations as practised in PAYGO systems, the state can also achieve a redistribution between individuals within a capital market-financed pension through suitable structures. This would reduce the amplitudes in the development of investment products. This could be a first step against a constant privatisation and marketisation of old-age provision (Ebbinghaus; 2015), even if there is a third capital market-financed pillar in a pension system. <br>\n",
    "\n",
    "Such a structure could be a mechanism of redistribution that in a simplified way could be described as a pot, into which each individual pays his dividends and losses since the last period. In a next step, this pot is divided fairly and proportionally to the money invested and paid out to the individuals. It would not be redistributed from poor to rich, but only between the winners and losers of investment products in a period. The individuals would thus cooperate with each other and better protect themselves together. This cooperation could take place through a state institution, such as a state fund, which invests the money in the interest of the individuals. <br>\n",
    "\n",
    "The advantage of an institution of that kind would be, that this form of redistribution within a generation through a wealth fund does not have to struggle with the paradox of redistribution (Korpi and Palme; 1998). \n",
    "Since everyone will benefit from the mechanism with relative certainty over time and the redistribution is independent of other wealth\n",
    "This is because privately invested pensions are subject to a non-ergodic process. Why redistribution in the form of cooperation may be intrinsically motivated here. <br>\n",
    "   \n",
    "The fact that this is a non-ergodic process means that the ensemble mean, which is more commonly known as the average over all individuals, does not match the time average for each individual. <br> \n",
    "That not every individual is over the whole time of an observation period in the average is generally known, provided that not all individuals experience continuously the same development. Relevant is the statement that it concerns a non-ergodic process nevertheless. <br>\n",
    "Because this means that the statistical expectation value, which corresponds to the ensemble average if the number of individuals strives toward infinity, does not indicate the value, which a certain individual at the time of its pension can actually \"expect\".  This is due to the fact that the value development is not normally distributed but follows a distribution with heavy tails. This means for the ensemble average and even more so for the expectation value that these are larger than the time average due to particularly positive, but also particularly rare cases, which in this case provides a better orientation value for the value development of a single \"typical\" individual.<br>\n",
    "However, the time average can be improved by the cooperation of individuals who share their dividends and losses. With an infinite number of cooperating individuals (N → ∞), this would even approach the expectation value of non-cooperating individuals.<br>\n",
    "\n",
    "The development of funded pension schemes will be modeled in the following as a a geometrican Brownian motion, that is often used to model stock market developments. Furthermore, the whole model is inspired by (Adamou and Peters; 2016). <br>\n",
    "The geometrican Brownian motion contains a Wiener process that makes it stochastic.<br>\n",
    "The Wiener process $\\epsilon$ $\\sqrt{dt}$, is therby normaly distributed with $\\epsilon$∼N(0,1), mean zero and varianze of dt. <br>\n",
    " \n",
    "(I) **Funded Pension Schemes** <br>\n",
    "$I_\\left(t+dt\\right)$ = $I_\\left(t\\right)$  $\\exp$$\\left[\\left( \\frac{\\mu − \\sigma^2}{2} \\right)dt + \\sigma \\epsilon \\sqrt{dt}\\right]$ <br>\n",
    "\n",
    "(II) **Expectation Value**: <br>\n",
    "$\\langle x \\rangle$ = $I_0$  $\\exp$($\\sigma$t) <br>\n",
    "\n",
    "(III) **Ensemble average growth rate** <br>\n",
    "$g\\left(\\langle x \\rangle\\right)$ = $\\mu$ <br>\n",
    "\n",
    "(IV) **Time avarage growth rate**: <br>\n",
    "$\\bar{g}(x_{i}$) ≡ $\\lim \\limits_{T \\to \\infty}$ $g$ ($x_{i}$,$T$) = $\\mu$ − $\\frac{\\sigma^2}{2}$  <br>\n",
    "\n",
    "\n",
    "A pension scheme with a cooperation mechanism would be particularly easy to implement in a pension system such as the Swedish pension system. Because there is already an obligation to invest 2.5% of one's income in capital market financed pension products. And the individuals are faced with a choice of statutorily approved products. <br>\n",
    "Then an institution would be easily conceivable that invests the money according to the wishes of the individuals and thus continues to remove the investments from political control, but carries out a redistribution between the individual investment products. <br>\n",
    "\n",
    "However, this redistribution is not a redistribution in the classical sense of redistributing from those who invest more to those who invest less. Rather, it is a cooperation between investors of different products. The cooperation consists of pooling the dividends and losses of the individual investment products at the end of each period. The pooled resources are then distributed to the individuals in proportion to their initial investment. <br>\n",
    "Thus, under such management, well-performing products share their dividends with poorly performing products. <br>\n",
    "On the expectation value such a pooling would have thereby no influence. However, as described above, capital market financed pensions are subject to a non-ergodic process, this does not apply to the time average. <br>\n",
    "\n",
    "(V)**Time avarage growth rate for cooperating individuals**: <br>\n",
    "$\\bar{g} _{c}(x_{i})$ = $\\mu$ − $\\frac{\\sigma^2}{2N}$ <br>\n",
    "\n",
    "As long as the volatility ($\\sigma$) is not not equal to 0, then $\\bar{g}_{c}$ > $\\bar{g}$ is valid (Peters and Adamou; 2016). The growth rate of the investment of cooperating individuals is thus larger than of non-cooperating individuals, as long as it can be assumed that the development of different investment products is subject to volatility. <br>\n",
    "\n",
    "This shows that cooperation in the form of redistribution between investments does not presuppose an altruistic attitude on the part of the population, but would be a \"rational\" decision based on purely intrinsic motives. An there wound be a paradox of redistribution. <br>\n",
    "    \n",
    "To better understand this, the following models are built. <br>\n"
   ]
  },
  {
   "cell_type": "markdown",
   "id": "bf053cf6",
   "metadata": {},
   "source": [
    "**Model**\n",
    "\n",
    "Therefore, four models for a pension fund will be simulated in this notebook. One where the individuals of a society invest directly in to private sector pension funds (M1) that evolve and perform differently. <br>\n",
    "In this model, however, there is no redistribution among individuals in the different funds. The payouts at the beginning of the pension therefore depend on which fund was invested in at the beginning of the payments and how well the portfolio has performed up to the payout date. <br>\n",
    "It is therefore a classic defined contribution system, without defined benefits or risk sharing between the individuals. <br>\n",
    "\n",
    "In the second model (M2), all individuals invest their money in a state fund, which invests the same amount as in M1 in the same various private-sector pension funds as in M1. <br>\n",
    "The difference here from M1 is that the dividends and losses earned by the government fund on its investment are pooled and distributed equally among the individual savings accounts. <br>\n",
    "The state fund continues to be a defined contribution system, but by pooling the investment in a common legal form (the state fund), which amounts to a redistribution between individuals, the amplitudes of unforeseen developments are reduced for each individual and thus the shifting of risk to the individual is reduced. <br>\n",
    "\n",
    "In M3 it is assumed that the redistribution in the form of cooperation by the state administration of a fund changes the investment behavior of a part of the individuals. These individuals take a higher risk in their investment due to a feeling of security in the hope of earning higher returns. <br>\n",
    "\n",
    "M4, like M3, assumes different investment behavior with respect to the risk and potential returns of some of the individuals. In addition, however, it is assumed that the individuals share only 50% of the returns and losses, i.e. there is only 50% cooperation. This case is to represent a societal minimal compromise in which a society could not agree on complete cooperation by a state administration of the investments. <br>\n"
   ]
  },
  {
   "cell_type": "markdown",
   "id": "7c45cf45",
   "metadata": {},
   "source": [
    "**Model specifications**: \n",
    "\n",
    "For simplicity, it is assumed in all four models that N individuals all invest their money for 40 years. <br>\n",
    "The investment $I_{0}$ at time = 0, is the same for all individuals and amounts 100€. This abstracts from early retirement, deaths, and continuous or increasing contributions. This is considered acceptable since these would only obscure the underlying growth rate, but would not affect the mechanism. <br>\n",
    "\n",
    "Investment development is modeled by a geometric Brownian motion (GBM) and a Wiener process contained therein, which makes the whole thing stochastic. The assumption that a price development independent of the previous period can be well modeled by a GBM model is not new, but forms, for example, the basis for the Black-Scholes model, which is now one of the most widely used stock market models (Black and Scholes, 1973). <br>\n",
    "\n",
    "The values for $\\mu$ and $\\sigma$, which represent the drift and volatility/diffusion in the GBM, are taken from the paper (Berman; Peters and Adamou; 2016). Consequently, $\\mu$ = 0.021 is assumed and  for $\\sigma$ = 0.16. The values were originally calculated using data from (Saez and Zucman; 2016) for the USA in 1913-2014.<br>\n",
    "\n",
    "Furthermore, it is assumed that dividends and losses are calculated once a year and that $\\sigma$ remains constant over the whole time. <br>\n",
    "\n",
    "For the M3 and M4 models, $\\mu$ = 0.03 and $\\sigma$ = 0.2 are assumed for the somewhat riskier products. <br>\n",
    "In addition, the model abstracts from possible administrative costs for government management of the fund. <br>\n"
   ]
  },
  {
   "cell_type": "markdown",
   "id": "7ff3c62d",
   "metadata": {},
   "source": [
    "## Simulation"
   ]
  },
  {
   "cell_type": "markdown",
   "id": "29a03cd8",
   "metadata": {},
   "source": [
    "**Packages**"
   ]
  },
  {
   "cell_type": "code",
   "execution_count": 98,
   "id": "abe6248d",
   "metadata": {},
   "outputs": [],
   "source": [
    "#########\n",
    "#packages\n",
    "#########\n",
    "library(tidyverse)\n",
    "library(gghighlight)\n",
    "library(ggplot2)\n",
    "library(kableExtra)\n",
    "library(vtable)\n",
    "library(plotly)\n"
   ]
  },
  {
   "cell_type": "markdown",
   "id": "864ff580",
   "metadata": {},
   "source": [
    "**Time Average Functions**"
   ]
  },
  {
   "cell_type": "code",
   "execution_count": 99,
   "id": "ec8fbbfe",
   "metadata": {},
   "outputs": [],
   "source": [
    "##################################################\n",
    "#functions for time average and expecation value\n",
    "##################################################\n",
    "\n",
    "#############\n",
    "#time average\n",
    "#############\n",
    "\n",
    "time_average <- function(mu=0, sigma=0, t=0 , I0=0){\n",
    "    \n",
    "    time_av <- matrix(ncol = 1, nrow = t)\n",
    "        g_bar <- mu - (sigma^2 / 2) # for non cooperating individuals, as in an evolutonary advantage by peters et. al   \n",
    "        time_av[1, ] <- I0 \n",
    "        \n",
    "        for (year in 2:t){\n",
    "         time_av[year, ] <-  time_av[(year-1), ] + time_av[(year-1), ] * g_bar\n",
    "        }\n",
    "    colnames(time_av) <- c(\"time_average\")\n",
    "    return(time_av)\n",
    "}\n",
    "\n",
    "\n",
    "##############################\n",
    "#time average with cooperation\n",
    "##############################\n",
    "\n",
    "time_average_c <- function(mu=0, sigma=0, I0=100, nsim =100, t=40){\n",
    "    \n",
    "    time_av_c <- matrix(ncol = 1, nrow = t)\n",
    "    g_bar_c <- mu - (((sigma/sqrt(nsim))^2 )/ 2) \n",
    "    time_av_c[1, ] <- I0 \n",
    "        \n",
    "        for (year in 2:t){\n",
    "         time_av_c[year, ] <-  time_av_c[(year-1), ] + time_av_c[(year-1), ] * g_bar_c\n",
    "        }\n",
    "    colnames(time_av_c) <- c(\"time_average_cooperation\")\n",
    "    return(time_av_c)\n",
    "}\n",
    "\n",
    "\n",
    "\n",
    "####################################################################\n",
    "#time average for cooperating individuals with different risk groups\n",
    "####################################################################\n",
    "\n",
    "time_average_cr <- function(mu=0.06, \n",
    "                            sigma=0.2,\n",
    "                            I0=100, \n",
    "                            nsim =100, \n",
    "                            t=40, \n",
    "                            r_mu=0.06, \n",
    "                            r_sigma=0.2, \n",
    "                            risk_g = 0.5){\n",
    "    \n",
    "    r_nsim <- round(nsim * risk_g ) # rounded number of indivuals with higher risk profile \n",
    "    s_nsim <- nsim - r_nsim # number of indivuduals with \"standard risk profile\"\n",
    "    \n",
    "    #caalculate sigma and mu for the complete groupe with differnt risk (cr)\n",
    "    mu_cr <- (1/nsim) * ((s_nsim * mu) + (r_nsim * r_mu))\n",
    "    sigma_cr <- (1/nsim) * ((s_nsim * sigma) + (r_nsim * r_sigma))\n",
    "    \n",
    "    \n",
    "    time_av_cr <- matrix(ncol = 1, nrow = t)\n",
    "    g_bar_cr <- mu_cr - (((sigma_cr/sqrt(nsim))^2 )/ 2) \n",
    "    time_av_cr[1, ] <- I0 \n",
    "        \n",
    "        for (year in 2:t){\n",
    "         time_av_cr[year, ] <-  time_av_cr[(year-1), ] + time_av_cr[(year-1), ] * g_bar_cr\n",
    "        }\n",
    "    colnames(time_av_cr) <- c(\"time_average_cooperation_different_risk_groups\")\n",
    "    return(time_av_cr)\n",
    "}\n",
    "\n",
    "\n",
    "\n",
    "\n",
    "##############################################\n",
    "#expecation value\n",
    "##############################################\n",
    "\n",
    "exp_v <- function(mu=0, sigma=0, I0=0 , t=0){\n",
    "    \n",
    "    exp_v_m <- matrix(ncol = 1, nrow = t)   \n",
    "        exp_v_m[1, ] <- I0 \n",
    "        for (year in 2:t){\n",
    "         exp_v_m[year, ] <-  I0 * exp(mu * year)\n",
    "        }\n",
    "    colnames(exp_v_m) <- c(\"expectation_value\")\n",
    "    return(exp_v_m)\n",
    "}\n",
    "\n",
    "\n",
    "\n",
    "##############################################\n",
    "#expecation value for different risk groups\n",
    "##############################################\n",
    "\n",
    "exp_vg <- function(mu=0,\n",
    "                   sigma=0,\n",
    "                   r_mu=0,\n",
    "                   r_sigma=0,\n",
    "                   I0=0 ,\n",
    "                   t=0,\n",
    "                   risk_g=0){\n",
    "    \n",
    "    exp_v_m <- matrix(ncol = 1, nrow = t)   \n",
    "        exp_v_m[1, ] <- I0 \n",
    "        for (year in 2:t){\n",
    "         exp_v_m[year, ] <-  (1-risk_g)*(I0 * exp(mu * year))+risk_g*(I0 * exp(r_mu * year))\n",
    "        }\n",
    "    colnames(exp_v_m) <- c(\"expectation_value_different_risk_groups\")\n",
    "    return(exp_v_m)\n",
    "}\n",
    "\n",
    "\n"
   ]
  },
  {
   "cell_type": "markdown",
   "id": "72791856",
   "metadata": {},
   "source": [
    "**Geometrican Brownian Motion Function**"
   ]
  },
  {
   "cell_type": "code",
   "execution_count": 100,
   "id": "a55805f3",
   "metadata": {},
   "outputs": [],
   "source": [
    "###############################################################\n",
    "#geomentrican brown motion\n",
    "#with or without cooperation\n",
    "#with or without different ris groups\n",
    "###############################################################\n",
    "\n",
    "gbm_loop <- function(nsim = 100, #default setting of the trajectory loop\n",
    "                     t = 40,     #time \n",
    "                     mu = 0.021, # drift of the standard product\n",
    "                     sigma = 0.16, # diffusion of the standard product\n",
    "                     I0 = 100,     # start investment\n",
    "                     dt = 365./365, # time steps\n",
    "                     coop = 0,      #cooperation faktor\n",
    "                     risk_g = 0, # Proportion of those willing to invest in higher-risk products\n",
    "                     r_mu = 0, # drift of the risky products\n",
    "                     r_sigma = 0){ #diffusion of the risky products\n",
    "    \n",
    "  pgbm <- matrix(ncol = nsim, nrow = t) #personal investment value matrix\n",
    "  pdlm <- matrix(ncol = nsim, nrow = t) # (pooled) dividends and losses matrix\n",
    "  r_nsim <- round(nsim * risk_g ) # rounded number of indivuals with higher risk profile \n",
    "  s_nsim <- nsim - r_nsim # number of indivuduals with \"standard risk profile\"\n",
    "   \n",
    " for (simu in 1:nsim) {\n",
    "    pgbm[1,simu ] <- I0 #investment of each individual\n",
    "    pdlm[1,simu ] <- 0 # at t=0 there are no ressources to be shared \n",
    "    }\n",
    " for (year in 2:t) {\n",
    "      \n",
    "  ### for loop for the group with the \"standard risk profile\"     \n",
    "    for (simu in 1:nsim) { # for loop for the group with the \"standard risk profile\"\n",
    "      epsilon <- rnorm(1)\n",
    "      dt = 365 / 365\n",
    "      \n",
    "      if (simu <= s_nsim){# differentiated between the risk groups\n",
    "      gbm_formula <- pgbm[(year-1), simu] * exp((mu - sigma * sigma / 2) * dt + sigma * epsilon * sqrt(dt)) # gbm formula\n",
    "      } else {\n",
    "        # the group with the \"higher risk profile\"\n",
    "      gbm_formula <- pgbm[(year-1), simu] * exp((r_mu - r_sigma * r_sigma / 2) * dt + r_sigma * epsilon * sqrt(dt)) # gbm formula\n",
    "      }\n",
    "      pgbm[year, simu] <- gbm_formula \n",
    " \n",
    "    #dividends and losses matrix\n",
    "      pdlm[year, simu] <- coop*(pgbm[year, simu] - pgbm[(year-1), simu]) # calculate difference for pooling with coop as cooperation factor\n",
    "  \n",
    "      pgbm[year, simu] <- pgbm[year, simu] - pdlm[year, simu] # substract the dividends and losses from the personal investment accounts\n",
    "                           }\n",
    "      \n",
    "    \n",
    "   #pooled dividends and losses\n",
    "      pdl <- rowSums(pdlm[ year, , drop = FALSE]) # sum of the dividends and losses of the year\n",
    "   \n",
    "\n",
    "   #sharing \n",
    "    spdl <- pdl / nsim #  ! if everyone invest the same I0\n",
    "    \n",
    "    for (simu in 1:nsim) {\n",
    "      pgbm[year, simu] <- pgbm[year, simu] + spdl # ad the share of the pooled dividends and losses to the personal accounts\n",
    "                          }  \n",
    "              \n",
    "}\n",
    "  return(pgbm)\n",
    "}\n",
    "\n",
    "\n"
   ]
  },
  {
   "cell_type": "markdown",
   "id": "79c8cf42",
   "metadata": {},
   "source": [
    "## M1 Non-Cooperation Model\n",
    "\n"
   ]
  },
  {
   "cell_type": "code",
   "execution_count": 131,
   "id": "4220a630",
   "metadata": {},
   "outputs": [
    {
     "name": "stderr",
     "output_type": "stream",
     "text": [
      "Warning message:\n",
      "\"Tried to calculate with group_by(), but the calculation failed.\n",
      "Falling back to ungrouped filter operation...\"\n",
      "label_key: sim\n",
      "\n",
      "Warning message in st(m1_40, vars = c(\"Pension_M1\"), out = \"csv\"):\n",
      "\"out = \"csv\" will just return the vtable as a data.frame unless combined with file\"\n"
     ]
    },
    {
     "data": {
      "text/html": [
       "<table class=\"dataframe\">\n",
       "<caption>A data.frame: 1 × 8</caption>\n",
       "<thead>\n",
       "\t<tr><th scope=col>Variable</th><th scope=col>N</th><th scope=col>Mean</th><th scope=col>Std. Dev.</th><th scope=col>Min</th><th scope=col>Pctl. 25</th><th scope=col>Pctl. 75</th><th scope=col>Max</th></tr>\n",
       "\t<tr><th scope=col>&lt;chr&gt;</th><th scope=col>&lt;chr&gt;</th><th scope=col>&lt;chr&gt;</th><th scope=col>&lt;chr&gt;</th><th scope=col>&lt;chr&gt;</th><th scope=col>&lt;chr&gt;</th><th scope=col>&lt;chr&gt;</th><th scope=col>&lt;chr&gt;</th></tr>\n",
       "</thead>\n",
       "<tbody>\n",
       "\t<tr><td>Pension_M1</td><td>100</td><td>226.69</td><td>226.898</td><td>22.145</td><td>65.757</td><td>274.077</td><td>1379.094</td></tr>\n",
       "</tbody>\n",
       "</table>\n"
      ],
      "text/latex": [
       "A data.frame: 1 × 8\n",
       "\\begin{tabular}{llllllll}\n",
       " Variable & N & Mean & Std. Dev. & Min & Pctl. 25 & Pctl. 75 & Max\\\\\n",
       " <chr> & <chr> & <chr> & <chr> & <chr> & <chr> & <chr> & <chr>\\\\\n",
       "\\hline\n",
       "\t Pension\\_M1 & 100 & 226.69 & 226.898 & 22.145 & 65.757 & 274.077 & 1379.094\\\\\n",
       "\\end{tabular}\n"
      ],
      "text/markdown": [
       "\n",
       "A data.frame: 1 × 8\n",
       "\n",
       "| Variable &lt;chr&gt; | N &lt;chr&gt; | Mean &lt;chr&gt; | Std. Dev. &lt;chr&gt; | Min &lt;chr&gt; | Pctl. 25 &lt;chr&gt; | Pctl. 75 &lt;chr&gt; | Max &lt;chr&gt; |\n",
       "|---|---|---|---|---|---|---|---|\n",
       "| Pension_M1 | 100 | 226.69 | 226.898 | 22.145 | 65.757 | 274.077 | 1379.094 |\n",
       "\n"
      ],
      "text/plain": [
       "  Variable   N   Mean   Std. Dev. Min    Pctl. 25 Pctl. 75 Max     \n",
       "1 Pension_M1 100 226.69 226.898   22.145 65.757   274.077  1379.094"
      ]
     },
     "metadata": {},
     "output_type": "display_data"
    },
    {
     "data": {
      "image/png": "[encoded data removed]",
      "text/plain": [
       "plot without title"
      ]
     },
     "metadata": {
      "image/png": {
       "height": 420,
       "width": 420
      }
     },
     "output_type": "display_data"
    }
   ],
   "source": [
    "##############\n",
    "# values M1\n",
    "##############\n",
    "\n",
    "nsim <- 100 # number of individuals\n",
    "t <- 40 # time of the investment\n",
    "mu <- 0.021 # drift\n",
    "sigma <- 0.16 # volatility (diffusion)\n",
    "I0 <- 100 # pension fund investment\n",
    "dt <- 365./365\n",
    "coop <- 0\n",
    "risk_g <- 0 \n",
    "r_mu <- 0 \n",
    "r_sigma <- 0\n",
    "\n",
    "\n",
    "#calculate trajectories\n",
    "m1 <- gbm_loop(nsim, t, mu, sigma, I0, dt, coop, risk_g, r_mu, r_sigma)\n",
    "\n",
    "#calculate time average\n",
    "m1_ta <-time_average(mu, sigma, t, I0)\n",
    "\n",
    "#calculate expectaion value\n",
    "m1_ev <- exp_v(mu, sigma, I0, t)\n",
    "\n",
    "#clean m1 data\n",
    "# convert the matrix into a data frame\n",
    "m1_c <- as.data.frame(m1) %>%\n",
    "           mutate(time = 1:nrow(m1)) %>%\n",
    "            pivot_longer(-time, names_to = 'sim', \n",
    "                         values_to = 'Pension_M1')\n",
    "\n",
    "\n",
    "#ad the time average and expectation value to the m1 matrix \n",
    "#otherwise they can't be plotted in the same plot\n",
    "m1_plus <- cbind(m1, m1_ta, m1_ev)\n",
    "\n",
    "# convert the matrix into a data frame\n",
    "m1_df <- as.data.frame(m1_plus) %>%\n",
    "           mutate(time = 1:nrow(m1_plus)) %>%\n",
    "            pivot_longer(-time, names_to = 'sim', \n",
    "                         values_to = 'Pension_M1')\n",
    "\n",
    "#plot the trajectories and the time average and expectation value of m1\n",
    "m1_p <- ggplot(m1_df) +\n",
    "  geom_line(aes(time, Pension_M1, colour = sim),\n",
    "            size = 1) +\n",
    "  ggtitle(\"M1 non-cooperating model\")+\n",
    "  ylab(\"Pension in €\") +\n",
    "  xlab(\"Time\") +\n",
    "  gghighlight(sim==\"time_average\" | sim==\"expectation_value\",\n",
    "              use_direct_label = TRUE, # legend if FALSE, labels if TRUE\n",
    "              unhighlighted_params = list(size = 0.5, \n",
    "                                          colour = alpha(\"dark grey\", 0.4))\n",
    "             ) + \n",
    "  scale_x_continuous(expand = c(0, 0),\n",
    "                     breaks=seq(0,40,5)) + \n",
    "  scale_y_continuous(expand = c(0, 0), \n",
    "                     limits = c(0, 1500),\n",
    "                     breaks=seq(0,1500,100) \n",
    "                    ) +\n",
    "  scale_color_discrete(\n",
    "    labels = c(\"time_average\" = \"time average\", \n",
    "               \"expectation_value\" = \"expectation value\"))+\n",
    "  theme(panel.background = element_rect(fill = \"white\"),\n",
    "        panel.grid.major = element_line(colour = \"grey\"),\n",
    "        panel.grid.minor = element_blank(),\n",
    "        axis.line = element_line(colour = \"black\"),\n",
    "        axis.ticks = element_blank(),\n",
    "        plot.title = element_text(lineheight=.8, face=\"bold\")\n",
    "        )\n",
    "\n",
    "\n",
    "\n",
    "m1_p \n",
    "\n",
    "#m1_pl <- ggplotly(m1_p) # uncomment for interactive plot\n",
    "#m1_pl\n",
    "\n",
    "\n",
    "#summary statistics of m1\n",
    "m1_40 <- m1_c %>% filter(time==t) #with the clean data\n",
    "st_m1 <- st(m1_40, \n",
    "           vars=c(\"Pension_M1\"),\n",
    "           out=\"csv\")\n",
    "\n",
    "st_m1\n"
   ]
  },
  {
   "cell_type": "markdown",
   "id": "f37209ca",
   "metadata": {},
   "source": [
    "## M2 Cooperation Model "
   ]
  },
  {
   "cell_type": "code",
   "execution_count": 126,
   "id": "def8cc72",
   "metadata": {},
   "outputs": [
    {
     "name": "stderr",
     "output_type": "stream",
     "text": [
      "Warning message in st(m2_40, vars = c(\"Pension_M2\"), out = \"csv\"):\n",
      "\"out = \"csv\" will just return the vtable as a data.frame unless combined with file\"\n"
     ]
    },
    {
     "data": {
      "text/html": [
       "<table class=\"dataframe\">\n",
       "<caption>A data.frame: 1 × 8</caption>\n",
       "<thead>\n",
       "\t<tr><th scope=col>Variable</th><th scope=col>N</th><th scope=col>Mean</th><th scope=col>Std. Dev.</th><th scope=col>Min</th><th scope=col>Pctl. 25</th><th scope=col>Pctl. 75</th><th scope=col>Max</th></tr>\n",
       "\t<tr><th scope=col>&lt;chr&gt;</th><th scope=col>&lt;chr&gt;</th><th scope=col>&lt;chr&gt;</th><th scope=col>&lt;chr&gt;</th><th scope=col>&lt;chr&gt;</th><th scope=col>&lt;chr&gt;</th><th scope=col>&lt;chr&gt;</th><th scope=col>&lt;chr&gt;</th></tr>\n",
       "</thead>\n",
       "<tbody>\n",
       "\t<tr><td>Pension_M2</td><td>100</td><td>247.234</td><td>0</td><td>247.234</td><td>247.234</td><td>247.234</td><td>247.234</td></tr>\n",
       "</tbody>\n",
       "</table>\n"
      ],
      "text/latex": [
       "A data.frame: 1 × 8\n",
       "\\begin{tabular}{llllllll}\n",
       " Variable & N & Mean & Std. Dev. & Min & Pctl. 25 & Pctl. 75 & Max\\\\\n",
       " <chr> & <chr> & <chr> & <chr> & <chr> & <chr> & <chr> & <chr>\\\\\n",
       "\\hline\n",
       "\t Pension\\_M2 & 100 & 247.234 & 0 & 247.234 & 247.234 & 247.234 & 247.234\\\\\n",
       "\\end{tabular}\n"
      ],
      "text/markdown": [
       "\n",
       "A data.frame: 1 × 8\n",
       "\n",
       "| Variable &lt;chr&gt; | N &lt;chr&gt; | Mean &lt;chr&gt; | Std. Dev. &lt;chr&gt; | Min &lt;chr&gt; | Pctl. 25 &lt;chr&gt; | Pctl. 75 &lt;chr&gt; | Max &lt;chr&gt; |\n",
       "|---|---|---|---|---|---|---|---|\n",
       "| Pension_M2 | 100 | 247.234 | 0 | 247.234 | 247.234 | 247.234 | 247.234 |\n",
       "\n"
      ],
      "text/plain": [
       "  Variable   N   Mean    Std. Dev. Min     Pctl. 25 Pctl. 75 Max    \n",
       "1 Pension_M2 100 247.234 0         247.234 247.234  247.234  247.234"
      ]
     },
     "metadata": {},
     "output_type": "display_data"
    },
    {
     "data": {
      "image/png": "[encoded data removed]",
      "text/plain": [
       "plot without title"
      ]
     },
     "metadata": {
      "image/png": {
       "height": 420,
       "width": 420
      }
     },
     "output_type": "display_data"
    }
   ],
   "source": [
    "###############################\n",
    "# values m2\n",
    "###############################\n",
    "\n",
    "nsim <- 100 # number of individuals\n",
    "t <- 40 # time of the investment\n",
    "mu <- 0.021 # drift\n",
    "sigma <- 0.16 # volatility (diffusion)\n",
    "I0 <- 100 # pension fund investment\n",
    "dt <- 365./365\n",
    "coop <- 1 # cooperation factor\n",
    "risk_g <- 0 \n",
    "r_mu <- 0 \n",
    "r_sigma <- 0\n",
    "\n",
    "\n",
    "\n",
    "#calculate the  function/ the trajectories \n",
    "m2 <- gbm_loop(nsim, t, mu, sigma, I0, dt, coop, risk_g, r_mu, r_sigma)\n",
    "\n",
    "#calculate time avarage for cooperating individuals\n",
    "m2_ta <- time_average_c(mu, sigma, I0, nsim, t) \n",
    "\n",
    "\n",
    "\n",
    "# save the pooled geometrican brownian motion data as a data frame\n",
    "m2_df <- as.data.frame(m2) %>%\n",
    "           mutate(time = 1:nrow(m2)) %>%\n",
    "            pivot_longer(-time, names_to = 'sim', \n",
    "                         values_to = 'Pension_M2')\n",
    "\n",
    "#plot the pbgm function/trajectories\n",
    "m2_p <- m2_df %>%\n",
    "  ggplot(aes(x=time, \n",
    "             y=Pension_M2, \n",
    "             color=sim)) +\n",
    "         geom_line(size=1.5) +\n",
    "         ggtitle(\"M2 cooperating model\") +\n",
    "         xlab(\"Time\") +\n",
    "         ylab(\"Pension in €\") +\n",
    "        scale_x_continuous(expand = c(0, 0),\n",
    "                          breaks=seq(0,40,5)\n",
    "                          ) +\n",
    "        scale_y_continuous(expand = c(0, 0),\n",
    "                           limits = c(0, 1500),\n",
    "                           breaks=seq(0,1500,100)\n",
    "                          ) +\n",
    "        theme(legend.position = 'none',\n",
    "              panel.background = element_rect(fill = \"white\"),\n",
    "              panel.grid.major = element_line(colour = \"grey\"),\n",
    "              panel.grid.minor = element_blank(),\n",
    "              axis.line = element_line(colour = \"black\"),\n",
    "              axis.ticks = element_blank(),\n",
    "              plot.title = element_text(lineheight=.8, face=\"bold\")\n",
    "              ) \n",
    "\n",
    "m2_p \n",
    "#m2_pl <- ggplotly(p1_pgbm) # uncomment for interactive plot with plotly\n",
    "\n",
    "#m2_pl\n",
    "\n",
    "#summary statistics\n",
    "m2_40 <- m2_df %>% filter(time==t)\n",
    "st_m2 <- st(m2_40,\n",
    "           vars=c(\"Pension_M2\"),\n",
    "           out=\"csv\")\n",
    "\n",
    "st_m2\n"
   ]
  },
  {
   "cell_type": "markdown",
   "id": "9af056d6",
   "metadata": {},
   "source": [
    "**difference between m1 and m2**"
   ]
  },
  {
   "cell_type": "code",
   "execution_count": 127,
   "id": "55bd059b",
   "metadata": {},
   "outputs": [
    {
     "name": "stderr",
     "output_type": "stream",
     "text": [
      "Warning message:\n",
      "\"Tried to calculate with group_by(), but the calculation failed.\n",
      "Falling back to ungrouped filter operation...\"\n",
      "Warning message:\n",
      "\"Removed 18 row(s) containing missing values (geom_path).\"\n"
     ]
    },
    {
     "data": {
      "image/png": "[encoded data removed]",
      "text/plain": [
       "plot without title"
      ]
     },
     "metadata": {
      "image/png": {
       "height": 420,
       "width": 420
      }
     },
     "output_type": "display_data"
    }
   ],
   "source": [
    "#time average of cooperation (m2) in the plot of m1\n",
    "\n",
    "m1m2 <- cbind(m1_plus, m2_ta)\n",
    "\n",
    "m1m2_df <- as.data.frame(m1m2) %>%\n",
    "           mutate(time = 1:nrow(m1m2)) %>%\n",
    "            pivot_longer(-time, names_to = 'sim', \n",
    "                         values_to = 'Pension')\n",
    "\n",
    "\n",
    "\n",
    "\n",
    "m1m2_p <- ggplot(m1m2_df) +\n",
    "  geom_line(aes(time, Pension, colour = sim),\n",
    "            size = 1) +\n",
    "  ggtitle(\"Time avereage of M2 with the trajectories and values from M1 \")+\n",
    "  xlab(\"Time\") +\n",
    "  ylab(\"Pension in €\") +\n",
    "  labs(color=\"\")+\n",
    "  gghighlight(sim==\"time_average\" | \n",
    "              sim==\"expectation_value\"|\n",
    "              sim==\"time_average_cooperation\",\n",
    "              use_direct_label = FALSE, # legend if FALSE, labels if TRUE\n",
    "              unhighlighted_params = list(size = 0.5, \n",
    "                                          colour = alpha(\"dark grey\", 0.4))\n",
    "             ) + \n",
    "  scale_color_discrete(\n",
    "    labels = c(\"time_average\" = \"time average M1\", \n",
    "               \"expectation_value\" = \"expectation value M1\", \n",
    "               \"time_average_cooperation\"=\"time average M2\"\n",
    "              )\n",
    "    )+\n",
    "  scale_x_continuous(expand = c(0, 0),\n",
    "                     breaks=seq(0,40,5)) + \n",
    "  scale_y_continuous(expand = c(0, 0),\n",
    "                    limits = c(0, 1500),\n",
    "                           breaks=seq(0,1500,100)\n",
    "                    ) +\n",
    "  theme(panel.background = element_rect(fill = \"white\"),\n",
    "        panel.grid.major = element_line(colour = \"grey\"),\n",
    "        panel.grid.minor = element_blank(),\n",
    "        axis.line = element_line(colour = \"black\"),\n",
    "        axis.ticks = element_blank(),\n",
    "        plot.title = element_text(lineheight=.8, face=\"bold\")\n",
    "        )\n",
    " \n",
    "\n",
    "\n",
    "\n",
    "m1m2_p\n",
    "        \n",
    "#m1m2_pl <- ggplotly(m1m2_p) # uncomment for interactive plot\n",
    "\n",
    "#m1m2_pl\n",
    "\n",
    "\n",
    "\n"
   ]
  },
  {
   "cell_type": "markdown",
   "id": "7d385dd0",
   "metadata": {},
   "source": [
    "### M3 Cooperation with partly stronger risk-taking"
   ]
  },
  {
   "cell_type": "code",
   "execution_count": 112,
   "id": "907bba8f",
   "metadata": {},
   "outputs": [
    {
     "name": "stderr",
     "output_type": "stream",
     "text": [
      "Warning message in st(m3_40, vars = c(\"Pension_M3\"), out = \"csv\"):\n",
      "\"out = \"csv\" will just return the vtable as a data.frame unless combined with file\"\n"
     ]
    },
    {
     "data": {
      "text/html": [
       "<table class=\"dataframe\">\n",
       "<caption>A data.frame: 1 × 8</caption>\n",
       "<thead>\n",
       "\t<tr><th scope=col>Variable</th><th scope=col>N</th><th scope=col>Mean</th><th scope=col>Std. Dev.</th><th scope=col>Min</th><th scope=col>Pctl. 25</th><th scope=col>Pctl. 75</th><th scope=col>Max</th></tr>\n",
       "\t<tr><th scope=col>&lt;chr&gt;</th><th scope=col>&lt;chr&gt;</th><th scope=col>&lt;chr&gt;</th><th scope=col>&lt;chr&gt;</th><th scope=col>&lt;chr&gt;</th><th scope=col>&lt;chr&gt;</th><th scope=col>&lt;chr&gt;</th><th scope=col>&lt;chr&gt;</th></tr>\n",
       "</thead>\n",
       "<tbody>\n",
       "\t<tr><td>Pension_M3</td><td>100</td><td>266.764</td><td>0</td><td>266.764</td><td>266.764</td><td>266.764</td><td>266.764</td></tr>\n",
       "</tbody>\n",
       "</table>\n"
      ],
      "text/latex": [
       "A data.frame: 1 × 8\n",
       "\\begin{tabular}{llllllll}\n",
       " Variable & N & Mean & Std. Dev. & Min & Pctl. 25 & Pctl. 75 & Max\\\\\n",
       " <chr> & <chr> & <chr> & <chr> & <chr> & <chr> & <chr> & <chr>\\\\\n",
       "\\hline\n",
       "\t Pension\\_M3 & 100 & 266.764 & 0 & 266.764 & 266.764 & 266.764 & 266.764\\\\\n",
       "\\end{tabular}\n"
      ],
      "text/markdown": [
       "\n",
       "A data.frame: 1 × 8\n",
       "\n",
       "| Variable &lt;chr&gt; | N &lt;chr&gt; | Mean &lt;chr&gt; | Std. Dev. &lt;chr&gt; | Min &lt;chr&gt; | Pctl. 25 &lt;chr&gt; | Pctl. 75 &lt;chr&gt; | Max &lt;chr&gt; |\n",
       "|---|---|---|---|---|---|---|---|\n",
       "| Pension_M3 | 100 | 266.764 | 0 | 266.764 | 266.764 | 266.764 | 266.764 |\n",
       "\n"
      ],
      "text/plain": [
       "  Variable   N   Mean    Std. Dev. Min     Pctl. 25 Pctl. 75 Max    \n",
       "1 Pension_M3 100 266.764 0         266.764 266.764  266.764  266.764"
      ]
     },
     "metadata": {},
     "output_type": "display_data"
    },
    {
     "data": {
      "image/png": "[encoded data removed]",
      "text/plain": [
       "plot without title"
      ]
     },
     "metadata": {
      "image/png": {
       "height": 420,
       "width": 420
      }
     },
     "output_type": "display_data"
    }
   ],
   "source": [
    "##################\n",
    "#values m3\n",
    "##################\n",
    "\n",
    "nsim <- 100\n",
    "t <- 40\n",
    "mu <- 0.021\n",
    "sigma <- 0.16\n",
    "I0 <- 100\n",
    "dt <- 365./365\n",
    "coop <- 1\n",
    "risk_g <- 0.5 # share of nsim that takes a higher risk \n",
    "r_mu <- 0.03\n",
    "r_sigma <- 0.2\n",
    "\n",
    "\n",
    "\n",
    "\n",
    "#calculate the  function/ the trajectories \n",
    "m3 <- gbm_loop(nsim, t, mu, sigma, I0, dt, coop, risk_g, r_mu, r_sigma)\n",
    "\n",
    "\n",
    "#calculate time average for cooperating individuals\n",
    "m3_ta <- time_average_cr(mu, sigma, I0, nsim, t, r_mu, r_sigma, risk_g) \n",
    "\n",
    "#calulate the expectation value for the collective\n",
    "m3_ev <- exp_vg(mu, sigma, r_mu, r_sigma, I0, t, risk_g)\n",
    "\n",
    "\n",
    "\n",
    "# save the pooled geometrican brownian motion data as a data frame\n",
    "m3_df <- as.data.frame(m3) %>%\n",
    "           mutate(time = 1:nrow(m3)) %>%\n",
    "            pivot_longer(-time, names_to = 'sim', \n",
    "                         values_to = 'Pension_M3')\n",
    "\n",
    "#plot the pbgm function/trajectories\n",
    "m3_p <- m3_df %>%\n",
    "  ggplot(aes(x=time, \n",
    "             y=Pension_M3, \n",
    "             color=sim)) +\n",
    "         geom_line(size=1.5) +\n",
    "         ggtitle(\"M3 cooperating model with different risk groups\") +\n",
    "         xlab(\"Time\") +\n",
    "         ylab(\"Pension in €\") +\n",
    "         labs(color=\"\")+\n",
    "        scale_x_continuous(expand = c(0, 0),\n",
    "                           breaks=seq(0,40,5)) +\n",
    "        scale_y_continuous(expand = c(0, 0),\n",
    "                          limits = c(0, 1500),\n",
    "                          breaks=seq(0,1500,100)\n",
    "                          ) +\n",
    "        theme(legend.position = 'none',\n",
    "              panel.background = element_rect(fill = \"white\"),\n",
    "              panel.grid.major = element_line(colour = \"grey\"),\n",
    "              panel.grid.minor = element_blank(),\n",
    "              axis.line = element_line(colour = \"black\"),\n",
    "              axis.ticks = element_blank(),\n",
    "              plot.title = element_text(lineheight=.8, face=\"bold\")\n",
    "              ) \n",
    "\n",
    "m3_p\n",
    "#p1pl_cdr <- ggplotly(p1_cdr) # uncomment fpr interactive plot with plotly\n",
    "\n",
    "#p1pl_cdr\n",
    "\n",
    "\n",
    "\n",
    "\n",
    "#summary statistics\n",
    "m3_40 <- m3_df %>% filter(time==t)\n",
    "st_m3 <- st(m3_40,\n",
    "           vars=c(\"Pension_M3\"),\n",
    "           out=\"csv\")\n",
    "\n",
    "st_m3\n",
    "\n"
   ]
  },
  {
   "cell_type": "markdown",
   "id": "a130388e",
   "metadata": {},
   "source": [
    "## M4 50% cooperation with partly stronger risk taking"
   ]
  },
  {
   "cell_type": "code",
   "execution_count": 113,
   "id": "b9020aaf",
   "metadata": {},
   "outputs": [
    {
     "name": "stderr",
     "output_type": "stream",
     "text": [
      "Warning message in st(m4_40, vars = c(\"Pension_M4\"), out = \"csv\"):\n",
      "\"out = \"csv\" will just return the vtable as a data.frame unless combined with file\"\n"
     ]
    },
    {
     "data": {
      "text/html": [
       "<table class=\"dataframe\">\n",
       "<caption>A data.frame: 1 × 8</caption>\n",
       "<thead>\n",
       "\t<tr><th scope=col>Variable</th><th scope=col>N</th><th scope=col>Mean</th><th scope=col>Std. Dev.</th><th scope=col>Min</th><th scope=col>Pctl. 25</th><th scope=col>Pctl. 75</th><th scope=col>Max</th></tr>\n",
       "\t<tr><th scope=col>&lt;chr&gt;</th><th scope=col>&lt;chr&gt;</th><th scope=col>&lt;chr&gt;</th><th scope=col>&lt;chr&gt;</th><th scope=col>&lt;chr&gt;</th><th scope=col>&lt;chr&gt;</th><th scope=col>&lt;chr&gt;</th><th scope=col>&lt;chr&gt;</th></tr>\n",
       "</thead>\n",
       "<tbody>\n",
       "\t<tr><td>Pension_M4</td><td>100</td><td>258.875</td><td>114.479</td><td>94.333</td><td>177.308</td><td>301.209</td><td>645.972</td></tr>\n",
       "</tbody>\n",
       "</table>\n"
      ],
      "text/latex": [
       "A data.frame: 1 × 8\n",
       "\\begin{tabular}{llllllll}\n",
       " Variable & N & Mean & Std. Dev. & Min & Pctl. 25 & Pctl. 75 & Max\\\\\n",
       " <chr> & <chr> & <chr> & <chr> & <chr> & <chr> & <chr> & <chr>\\\\\n",
       "\\hline\n",
       "\t Pension\\_M4 & 100 & 258.875 & 114.479 & 94.333 & 177.308 & 301.209 & 645.972\\\\\n",
       "\\end{tabular}\n"
      ],
      "text/markdown": [
       "\n",
       "A data.frame: 1 × 8\n",
       "\n",
       "| Variable &lt;chr&gt; | N &lt;chr&gt; | Mean &lt;chr&gt; | Std. Dev. &lt;chr&gt; | Min &lt;chr&gt; | Pctl. 25 &lt;chr&gt; | Pctl. 75 &lt;chr&gt; | Max &lt;chr&gt; |\n",
       "|---|---|---|---|---|---|---|---|\n",
       "| Pension_M4 | 100 | 258.875 | 114.479 | 94.333 | 177.308 | 301.209 | 645.972 |\n",
       "\n"
      ],
      "text/plain": [
       "  Variable   N   Mean    Std. Dev. Min    Pctl. 25 Pctl. 75 Max    \n",
       "1 Pension_M4 100 258.875 114.479   94.333 177.308  301.209  645.972"
      ]
     },
     "metadata": {},
     "output_type": "display_data"
    },
    {
     "data": {
      "image/png": "[encoded data removed]",
      "text/plain": [
       "plot without title"
      ]
     },
     "metadata": {
      "image/png": {
       "height": 420,
       "width": 420
      }
     },
     "output_type": "display_data"
    }
   ],
   "source": [
    "################\n",
    "#values m4\n",
    "################\n",
    "\n",
    "nsim <- 100\n",
    "t <- 40\n",
    "mu <- 0.021\n",
    "sigma <- 0.16\n",
    "I0 <- 100\n",
    "dt <- 365./365\n",
    "coop <- 0.5 # share of cooperation\n",
    "risk_g <- 0.5 # share of nsim that takes a higher risk \n",
    "r_mu <- 0.03\n",
    "r_sigma <- 0.2\n",
    "\n",
    "\n",
    "\n",
    "\n",
    "#calculate the  function/ the trajectories \n",
    "m4 <- gbm_loop(nsim, t, mu, sigma, I0, dt, coop, risk_g, r_mu, r_sigma)\n",
    "\n",
    "\n",
    "#calculate time average for cooperating individuals\n",
    "m4_ta <- time_average_c(mu, sigma, I0, nsim, t) \n",
    "\n",
    "\n",
    "\n",
    "#save the pooled geometrican brownian motion data as a data frame\n",
    "m4_df <- as.data.frame(m4) %>%\n",
    "           mutate(time = 1:nrow(m4)) %>%\n",
    "            pivot_longer(-time, names_to = 'sim', \n",
    "                         values_to = 'Pension_M4')\n",
    "\n",
    "#plot the cdr function/trajectories\n",
    "m4_p <- m4_df %>%\n",
    "  ggplot(aes(x=time, \n",
    "             y=Pension_M4, \n",
    "             color=sim)) +\n",
    "         geom_line(size=0.5) +\n",
    "         ggtitle(\"M4 50% cooperation model with different risk groups\") +\n",
    "         xlab(\"Time\") +\n",
    "         ylab(\"Pension in €\") +\n",
    "        scale_x_continuous(expand = c(0, 0),\n",
    "                           breaks=seq(0,40,5)) +\n",
    "        scale_y_continuous(expand = c(0, 0),\n",
    "                          limits = c(0, 1500),\n",
    "                          breaks=seq(0,1500,100)\n",
    "                          ) +\n",
    "        theme(legend.position = 'none',\n",
    "              panel.background = element_rect(fill = \"white\"),\n",
    "              panel.grid.major = element_line(colour = \"grey\"),\n",
    "              panel.grid.minor = element_blank(),\n",
    "              axis.line = element_line(colour = \"black\"),\n",
    "              axis.ticks = element_blank(),\n",
    "              plot.title = element_text(lineheight=.8, face=\"bold\")\n",
    "              ) \n",
    "\n",
    "m4_p \n",
    "#m4_pl <- ggplotly(m4_p) # uncomment for interactive plot with plotly\n",
    "\n",
    "#m4_pl\n",
    "\n",
    "\n",
    "\n",
    "\n",
    "#summary statistics\n",
    "m4_40 <- m4_df %>% filter(time==t)\n",
    "st_m4 <- st(m4_40,\n",
    "           vars=c(\"Pension_M4\"),\n",
    "           out=\"csv\")\n",
    "\n",
    "st_m4\n"
   ]
  },
  {
   "cell_type": "markdown",
   "id": "9ee0170f",
   "metadata": {},
   "source": [
    "**visualisation of the different values**"
   ]
  },
  {
   "cell_type": "code",
   "execution_count": 130,
   "id": "7af389de",
   "metadata": {
    "scrolled": false
   },
   "outputs": [
    {
     "name": "stderr",
     "output_type": "stream",
     "text": [
      "Warning message:\n",
      "\"Tried to calculate with group_by(), but the calculation failed.\n",
      "Falling back to ungrouped filter operation...\"\n"
     ]
    },
    {
     "data": {
      "image/png": "[encoded data removed]",
      "text/plain": [
       "plot without title"
      ]
     },
     "metadata": {
      "image/png": {
       "height": 420,
       "width": 420
      }
     },
     "output_type": "display_data"
    }
   ],
   "source": [
    "\n",
    "#visualisation of the difference between the models\n",
    "vp <- cbind(m1_ev, m1_ta, m2_ta, m3_ta, m3_ev) # matrix with the difference between time avarage and expectation value\n",
    "\n",
    "\n",
    "#convert the matrix into a data frame\n",
    "vp_df <- as.data.frame(vp) %>%\n",
    "           mutate(time = 1:nrow(m1)) %>%\n",
    "            pivot_longer(-time, names_to = 'sim', \n",
    "                         values_to = 'Pension')\n",
    "\n",
    "\n",
    "# plot the different expectations of the models\n",
    "vp_p <- ggplot(vp_df) +\n",
    "  geom_line(aes(time, log(Pension), colour = sim),\n",
    "            size = 1.5) +\n",
    "  ggtitle(\"M1:4 log transformed time averages and expactation values\")+\n",
    "  xlab(\"Time\") +\n",
    "  labs(color=\"\")+\n",
    "  gghighlight(sim==\"time_average\" | \n",
    "              sim==\"expectation_value\" |\n",
    "              sim==\"expectation_value_different_risk_groups\"|\n",
    "              sim==\"time_average_cooperation\" | \n",
    "              sim==\"time_average_cooperation_different_risk_groups\",\n",
    "              use_direct_label = FALSE, # legend if FALSE, labels if TRUE\n",
    "              unhighlighted_params = list(size = 0.7, \n",
    "                                          colour = alpha(\"grey\", 0.4))\n",
    "             ) +\n",
    " scale_color_discrete(\n",
    "    labels = c(\"time_average\" = \"time average M1\", \n",
    "               \"expectation_value\" = \"expectation value M1\", \n",
    "               \"expectation_value_different_risk_groups\" = \"expectation value M3\",\n",
    "               \"time_average_cooperation\"=\"time average M2\",\n",
    "               \"time_average_cooperation_different_risk_groups\"=\"time average M4\"\n",
    "              )\n",
    "    )+\n",
    " scale_x_continuous(expand = c(0, 0),\n",
    "                    breaks=seq(0,40,5)) + \n",
    " scale_y_continuous(expand = c(0, 0)\n",
    "                   ) +\n",
    "  theme(panel.background = element_rect(fill = \"white\"),\n",
    "        panel.grid.major = element_line(colour = \"grey\"),\n",
    "        panel.grid.minor = element_blank(),\n",
    "        axis.line = element_line(colour = \"black\"),\n",
    "        axis.ticks = element_blank(),\n",
    "        plot.title = element_text(lineheight=.8, face=\"bold\")\n",
    "        )\n",
    "vp_p \n",
    "\n",
    "#vp_pl <- ggplotly(vp_p) # uncomment for interactive plot\n",
    "#vp_pl\n",
    "\n",
    "\n"
   ]
  },
  {
   "cell_type": "code",
   "execution_count": 129,
   "id": "3bd1d571",
   "metadata": {},
   "outputs": [
    {
     "data": {
      "text/html": [
       "<style>\n",
       ".dl-inline {width: auto; margin:0; padding: 0}\n",
       ".dl-inline>dt, .dl-inline>dd {float: none; width: auto; display: inline-block}\n",
       ".dl-inline>dt::after {content: \":\\0020\"; padding-right: .5ex}\n",
       ".dl-inline>dt:not(:first-of-type) {padding-left: .5ex}\n",
       "</style><dl class=dl-inline><dt>expectation_value</dt><dd>231.64</dd><dt>time_average</dt><dd>137.51</dd><dt>time_average_cooperation</dt><dd>223.81</dd><dt>time_average_cooperation_different_risk_groups</dt><dd>265.35</dd><dt>expectation_value_different_risk_groups</dt><dd>281.82</dd></dl>\n"
      ],
      "text/latex": [
       "\\begin{description*}\n",
       "\\item[expectation\\textbackslash{}\\_value] 231.64\n",
       "\\item[time\\textbackslash{}\\_average] 137.51\n",
       "\\item[time\\textbackslash{}\\_average\\textbackslash{}\\_cooperation] 223.81\n",
       "\\item[time\\textbackslash{}\\_average\\textbackslash{}\\_cooperation\\textbackslash{}\\_different\\textbackslash{}\\_risk\\textbackslash{}\\_groups] 265.35\n",
       "\\item[expectation\\textbackslash{}\\_value\\textbackslash{}\\_different\\textbackslash{}\\_risk\\textbackslash{}\\_groups] 281.82\n",
       "\\end{description*}\n"
      ],
      "text/markdown": [
       "expectation_value\n",
       ":   231.64time_average\n",
       ":   137.51time_average_cooperation\n",
       ":   223.81time_average_cooperation_different_risk_groups\n",
       ":   265.35expectation_value_different_risk_groups\n",
       ":   281.82\n",
       "\n"
      ],
      "text/plain": [
       "                             expectation_value \n",
       "                                        231.64 \n",
       "                                  time_average \n",
       "                                        137.51 \n",
       "                      time_average_cooperation \n",
       "                                        223.81 \n",
       "time_average_cooperation_different_risk_groups \n",
       "                                        265.35 \n",
       "       expectation_value_different_risk_groups \n",
       "                                        281.82 "
      ]
     },
     "metadata": {},
     "output_type": "display_data"
    },
    {
     "data": {
      "text/html": [
       "<table class=\"dataframe\">\n",
       "<caption>A data.frame: 4 × 8</caption>\n",
       "<thead>\n",
       "\t<tr><th scope=col>Variable</th><th scope=col>N</th><th scope=col>Mean</th><th scope=col>Std. Dev.</th><th scope=col>Min</th><th scope=col>Pctl. 25</th><th scope=col>Pctl. 75</th><th scope=col>Max</th></tr>\n",
       "\t<tr><th scope=col>&lt;chr&gt;</th><th scope=col>&lt;chr&gt;</th><th scope=col>&lt;chr&gt;</th><th scope=col>&lt;chr&gt;</th><th scope=col>&lt;chr&gt;</th><th scope=col>&lt;chr&gt;</th><th scope=col>&lt;chr&gt;</th><th scope=col>&lt;chr&gt;</th></tr>\n",
       "</thead>\n",
       "<tbody>\n",
       "\t<tr><td>Pension_M1</td><td>100</td><td>236.553</td><td>329.361</td><td>14.288 </td><td>72.487 </td><td>275.571</td><td>2269.568</td></tr>\n",
       "\t<tr><td>Pension_M2</td><td>100</td><td>247.234</td><td>0      </td><td>247.234</td><td>247.234</td><td>247.234</td><td>247.234 </td></tr>\n",
       "\t<tr><td>Pension_M3</td><td>100</td><td>266.764</td><td>0      </td><td>266.764</td><td>266.764</td><td>266.764</td><td>266.764 </td></tr>\n",
       "\t<tr><td>Pension_M4</td><td>100</td><td>258.875</td><td>114.479</td><td>94.333 </td><td>177.308</td><td>301.209</td><td>645.972 </td></tr>\n",
       "</tbody>\n",
       "</table>\n"
      ],
      "text/latex": [
       "A data.frame: 4 × 8\n",
       "\\begin{tabular}{llllllll}\n",
       " Variable & N & Mean & Std. Dev. & Min & Pctl. 25 & Pctl. 75 & Max\\\\\n",
       " <chr> & <chr> & <chr> & <chr> & <chr> & <chr> & <chr> & <chr>\\\\\n",
       "\\hline\n",
       "\t Pension\\_M1 & 100 & 236.553 & 329.361 & 14.288  & 72.487  & 275.571 & 2269.568\\\\\n",
       "\t Pension\\_M2 & 100 & 247.234 & 0       & 247.234 & 247.234 & 247.234 & 247.234 \\\\\n",
       "\t Pension\\_M3 & 100 & 266.764 & 0       & 266.764 & 266.764 & 266.764 & 266.764 \\\\\n",
       "\t Pension\\_M4 & 100 & 258.875 & 114.479 & 94.333  & 177.308 & 301.209 & 645.972 \\\\\n",
       "\\end{tabular}\n"
      ],
      "text/markdown": [
       "\n",
       "A data.frame: 4 × 8\n",
       "\n",
       "| Variable &lt;chr&gt; | N &lt;chr&gt; | Mean &lt;chr&gt; | Std. Dev. &lt;chr&gt; | Min &lt;chr&gt; | Pctl. 25 &lt;chr&gt; | Pctl. 75 &lt;chr&gt; | Max &lt;chr&gt; |\n",
       "|---|---|---|---|---|---|---|---|\n",
       "| Pension_M1 | 100 | 236.553 | 329.361 | 14.288  | 72.487  | 275.571 | 2269.568 |\n",
       "| Pension_M2 | 100 | 247.234 | 0       | 247.234 | 247.234 | 247.234 | 247.234  |\n",
       "| Pension_M3 | 100 | 266.764 | 0       | 266.764 | 266.764 | 266.764 | 266.764  |\n",
       "| Pension_M4 | 100 | 258.875 | 114.479 | 94.333  | 177.308 | 301.209 | 645.972  |\n",
       "\n"
      ],
      "text/plain": [
       "  Variable   N   Mean    Std. Dev. Min     Pctl. 25 Pctl. 75 Max     \n",
       "1 Pension_M1 100 236.553 329.361   14.288  72.487   275.571  2269.568\n",
       "2 Pension_M2 100 247.234 0         247.234 247.234  247.234  247.234 \n",
       "3 Pension_M3 100 266.764 0         266.764 266.764  266.764  266.764 \n",
       "4 Pension_M4 100 258.875 114.479   94.333  177.308  301.209  645.972 "
      ]
     },
     "metadata": {},
     "output_type": "display_data"
    }
   ],
   "source": [
    "#values for expectation value, time avarage with and without cooperation\n",
    "round(vp[40,], digits=2) # values of the different pension models after 40 years\n",
    "\n",
    "#summary statistics of M1:4\n",
    "st <- rbind(st_m1, st_m2, st_m3, st_m4)\n",
    "st"
   ]
  },
  {
   "cell_type": "markdown",
   "id": "0f01979b",
   "metadata": {},
   "source": [
    "**Results**\n",
    "\n",
    "As can be seen in the summary statistics for the four models, the worst trajectory in the M1 model falls below the initial investment of $I_0$ and strongly converges to 0. Moreover, in the M1 model even the 25th percentile still shows a loss and remains below $I_{0}$. In all other models, for all trajectories, the value of investment rises above that of $I_{0}$. <br>\n",
    "\n",
    "For M2 and M3, full cooperation shows that all individuals have the same outcome at the end of each period. The outcome of M2 in the simulation is close to the 75th percentile of M1 and close to the expectation value (especially in simulations with increasing numbers of N). <br>\n",
    "Thus, the intrinsic motivation for cooperative behavior seems to apply here. <br>\n",
    "\n",
    "M3 also shows that the cooperating individuals might even benefit from a greater diversification of investments, with partly higher risk. At the values tested here, changing investment behavior does not seem to be a problem that would cause the cooperation mechanism to become ineffective. <br>\n",
    "\n",
    "In M4, which can be seen as a model in which the idea of cooperation in the political process could not be fully reassessed and in which there is also a change in the willingness to take risks as a result of cooperation, a better outcome than in M1 can nevertheless be observed. This is because not only the worst pension but also the 25th and 75th percentiles are larger than in M1 and for all individuals larger than $I_{0}$. In addition, the standard deviation and thus the inequality between pensions is smaller. <br>\n",
    "\n",
    "The summary statistics also show that, due to ergodicity breaking, the ensemble average is not an adequate measure for assessing the models for the individual. The ensemble average is greater in M1 than in M2, while the time average for M2 is substantially higher than that of M1. So if individuals acting \"rationally\" in the sense of homo economicus had only the information of an ensemble average at their disposal or only the time average, they would make fundamentally different decisions in each case.\n",
    "\n",
    "\n"
   ]
  },
  {
   "cell_type": "markdown",
   "id": "8d5e1420",
   "metadata": {},
   "source": [
    "**Discussion**"
   ]
  },
  {
   "cell_type": "markdown",
   "id": "62c404eb",
   "metadata": {},
   "source": [
    "As the various models have shown, state-administered cooperation in a capital market-financed pension is to be recommended in any case. <br>\n",
    "However, it should be noted that this is by no means a general recommendation for a capital market-financed defined contributions pension. This is because the model does not take into account whether the performance in the model with cooperation can generate adequate pensions at all. If the values used for $\\mu$ and $\\sigma$ as used by (Berman; Peters and Adamou; 2016) are also assumed to be realistic for the future, inflation and administrative costs would also have to be taken into account to answer such a question. But this was not the question to be dealt with here. <br>\n",
    "Definitely, the models and the fact of non-existent ergodicity in private pension provision provide a strong argument for a strong role of the state in the organisation and administration of pensions. Also, and this is the crucial point, if pension reforms shift the pension burden to the third the pillar, this should not be an argument that the state leaves individuals to the market. Otherwise, such reforms will not achieve the hoped-for relief of the pension systems. Especially since a publicly administered cooperation fund can not only appear attractive from a utility-maximising perspective, but at the same time offers the possibility of allowing individuals the freedom to choose where to invest their money through a state pre-selection of various licensed old-age provision products, but also confronts the possibly majority of not very well-informed individuals with a manageable choice and can better secure them through cooperation in the development of value. <br>\n",
    "The advantage of such a system would not only lie in its better and less volatile performance, but also in a reduced complexity for the individuals as to how they have to put money aside for their retirement. <br> \n",
    "Moreover, such a system would at least not lead to increasing inequality due to randomness.\n",
    "    \n",
    "\n"
   ]
  },
  {
   "cell_type": "markdown",
   "id": "8056a908",
   "metadata": {},
   "source": [
    "**Literature**:\n",
    "\n",
    "Berman, Yonatan and Peters, Ole and Adamou, Alexander. (2021) Wealth Inequality and the Ergodic Hypothesis: Evidence from the United States. Forthcoming in Journal of Income Distribution, Available at SSRN: https://ssrn.com/abstract=2794830 or http://dx.doi.org/10.2139/ssrn.2794830\n",
    " \n",
    "\n",
    "Black, F., & Scholes, M. (1973). The Pricing of Options and Corporate Liabilities. Journal of Political Economy, 81(3), 637-654. Retrieved July 1, 2021, from http://www.jstor.org/stable/1831029\n",
    "\n",
    "Ebbinghaus, Bernhard. (2015). The Privatization and Marketization of Pensions in Europe: A Double Transformation Facing the Crisis. European Policy Analysis. 1. 56-73. 10.18278/epa.1.1.5. \n",
    "\n",
    "Hassel, Anke; Naczyk, Marek & Wiß, Tobias (2019) The political economy of pension financialisation: public policy responses to the crisis, Journal of European Public Policy, 26:4, 483-500, DOI: 10.1080/13501763.2019.1575455\n",
    "\n",
    "Korpi, Walter and Palme, Joakim  (1998); The Paradox of Redistribution and Strategies of Equality: Welfare State Institutions, Inequality, and Poverty in the Western Countries American Sociological Review; Vol. 63, No. 5 (Oct., 1998), pp. 661-687 \n",
    "Published By: American Sociological Association https://doi.org/10.2307/2657333\n",
    "\n",
    "Lannoo, Karel; Barslund,  Mikkel; Chmelar,  Ales and von Werder, Marten (2014). DIRECTORATE GENERAL FOR INTERNAL POLICIES,POLICY DEPARTMENT A: ECONOMIC AND SCIENTIFIC POLICY, Pension Schemes; EUROPEAN PARLIAMENT; IP/A/EMPL/ST/2013-07\n",
    "\n",
    "Peters, Ole and Adamou, Alexander. (2018). An evolutionary advantage of cooperation. arXiv:1506.03414v2\n",
    "\n",
    "Saez, Emmanuel, and Gabriel Zucman. (2016). “Wealth Inequality in the United States\n",
    "since 1913: Evidence from Capitalized Income Tax Data.” Quarterly Journal of Economics,\n",
    "131(2): 519–578."
   ]
  },
  {
   "cell_type": "code",
   "execution_count": null,
   "id": "f309de8c",
   "metadata": {},
   "outputs": [],
   "source": []
  }
 ],
 "metadata": {
  "kernelspec": {
   "display_name": "R",
   "language": "R",
   "name": "ir"
  },
  "language_info": {
   "codemirror_mode": "r",
   "file_extension": ".r",
   "mimetype": "text/x-r-source",
   "name": "R",
   "pygments_lexer": "r",
   "version": "4.0.5"
  }
 },
 "nbformat": 4,
 "nbformat_minor": 5
}
